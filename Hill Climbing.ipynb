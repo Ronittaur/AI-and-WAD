{
 "cells": [
  {
   "cell_type": "code",
   "execution_count": 1,
   "id": "05f98995",
   "metadata": {},
   "outputs": [],
   "source": [
    "n = 4\n",
    "\n",
    "def Clash(queen_pos):\n",
    "    board = []\n",
    "    for i in range(n):\n",
    "        board.append((queen_pos[i], i))\n",
    "#     print(board)\n",
    "    count = 0\n",
    "    for i in range(n-1):\n",
    "        queen1 = board[i]\n",
    "        for j in range(i+1, n):\n",
    "            queen2 = board[j]\n",
    "            \n",
    "            if(abs(queen1[0] - queen2[0]) == abs(queen1[1] - queen2[1])):\n",
    "                count += 1\n",
    "            \n",
    "            if(queen1[0] == queen2[0]):\n",
    "                count += 1\n",
    "\n",
    "    return count\n",
    "    "
   ]
  },
  {
   "cell_type": "code",
   "execution_count": 2,
   "id": "1af5a3b1",
   "metadata": {},
   "outputs": [
    {
     "data": {
      "text/plain": [
       "5"
      ]
     },
     "execution_count": 2,
     "metadata": {},
     "output_type": "execute_result"
    }
   ],
   "source": [
    "queen_pos = [0, 1, 2, 1]\n",
    "Clash(queen_pos)"
   ]
  },
  {
   "cell_type": "code",
   "execution_count": 3,
   "id": "e8d72987",
   "metadata": {},
   "outputs": [
    {
     "name": "stdout",
     "output_type": "stream",
     "text": [
      "[0, 2, 3, 1] 1\n",
      "[2, 2, 3, 1] 2\n",
      "[3, 2, 3, 1] 3\n",
      "[1, 0, 3, 1] 3\n",
      "[1, 1, 3, 1] 4\n",
      "[1, 3, 3, 1] 4\n",
      "[1, 2, 0, 1] 3\n",
      "[1, 2, 1, 1] 5\n",
      "[1, 2, 2, 1] 4\n",
      "[1, 2, 3, 0] 4\n",
      "[1, 2, 3, 2] 5\n",
      "[1, 2, 3, 3] 4\n"
     ]
    }
   ],
   "source": [
    "# Find out the successive placement of queens\n",
    "\n",
    "def successor(pos):\n",
    "    positions.clear()\n",
    "    lst = []\n",
    "    \n",
    "    for i in range(n):\n",
    "        for j in range(n):\n",
    "            if(pos[i] != j):\n",
    "                lst = pos.copy()\n",
    "                lst[i] = j\n",
    "                positions.append(lst)\n",
    "#     print(positions)\n",
    "    for k in positions:\n",
    "        print(k, Clash(k))\n",
    "    return positions\n",
    "\n",
    "positions = []\n",
    "pos = [1, 2, 3, 1]\n",
    "a = successor(pos)"
   ]
  },
  {
   "cell_type": "code",
   "execution_count": 7,
   "id": "701696bb",
   "metadata": {
    "scrolled": false
   },
   "outputs": [
    {
     "name": "stdout",
     "output_type": "stream",
     "text": [
      "Enter total no. of Queens : 4\n",
      "\n",
      "\n",
      "Enter the row no. of Queen  1\n",
      "0\n",
      "Enter the row no. of Queen  2\n",
      "1\n",
      "Enter the row no. of Queen  3\n",
      "0\n",
      "Enter the row no. of Queen  4\n",
      "1\n",
      "\n",
      "\n",
      "Total clashes between queens are :  5\n",
      "\n",
      "\n",
      "[1, 1, 0, 1] 5\n",
      "[2, 1, 0, 1] 5\n",
      "[3, 1, 0, 1] 3\n",
      "[0, 0, 0, 1] 4\n",
      "[0, 2, 0, 1] 2\n",
      "[0, 3, 0, 1] 3\n",
      "[0, 1, 1, 1] 4\n",
      "[0, 1, 2, 1] 5\n",
      "[0, 1, 3, 1] 2\n",
      "[0, 1, 0, 0] 5\n",
      "[0, 1, 0, 2] 3\n",
      "[0, 1, 0, 3] 5\n",
      "Best position [0, 2, 0, 1] 2 \n",
      "\n",
      "[1, 2, 0, 1] 3\n",
      "[2, 2, 0, 1] 3\n",
      "[3, 2, 0, 1] 2\n",
      "[0, 0, 0, 1] 4\n",
      "[0, 1, 0, 1] 5\n",
      "[0, 3, 0, 1] 3\n",
      "[0, 2, 1, 1] 2\n",
      "[0, 2, 2, 1] 3\n",
      "[0, 2, 3, 1] 1\n",
      "[0, 2, 0, 0] 4\n",
      "[0, 2, 0, 2] 2\n",
      "[0, 2, 0, 3] 2\n",
      "Best position [0, 2, 3, 1] 1 \n",
      "\n",
      "[1, 2, 3, 1] 4\n",
      "[2, 2, 3, 1] 2\n",
      "[3, 2, 3, 1] 3\n",
      "[0, 0, 3, 1] 1\n",
      "[0, 1, 3, 1] 2\n",
      "[0, 3, 3, 1] 2\n",
      "[0, 2, 0, 1] 2\n",
      "[0, 2, 1, 1] 2\n",
      "[0, 2, 2, 1] 3\n",
      "[0, 2, 3, 0] 3\n",
      "[0, 2, 3, 2] 3\n",
      "[0, 2, 3, 3] 3\n",
      "Best position [0, 0, 3, 1] 1 \n",
      "\n",
      "No solution found\n"
     ]
    }
   ],
   "source": [
    "n = int(input(\"Enter total no. of Queens : \"))\n",
    "print(\"\\n\")\n",
    "pos_init = []\n",
    "\n",
    "# Taking input\n",
    "for i in range(n):\n",
    "    print(\"Enter the row no. of Queen \", i+1)\n",
    "    queen = int(input())\n",
    "    pos_init.append(queen)\n",
    "\n",
    "# Calculating total clash\n",
    "print(\"\\n\")\n",
    "clash_count = Clash(pos_init)\n",
    "print(\"Total clashes between queens are : \",clash_count)\n",
    "print(\"\\n\")\n",
    "\n",
    "max_h = 99\n",
    "\n",
    "while(max_h > clash_count):\n",
    "    positions = []\n",
    "    \n",
    "    positions= successor(pos_init)\n",
    "    \n",
    "    min_h = 99\n",
    "    \n",
    "    minH_lst = []\n",
    "    \n",
    "    for lst in positions:\n",
    "        minH_val = Clash(lst)\n",
    "        if minH_val < min_h:\n",
    "            min_h = minH_val\n",
    "            minH_lst = lst.copy()\n",
    "    \n",
    "    max_h = clash_count\n",
    "    clash_count = min_h\n",
    "    \n",
    "    pos_init = minH_lst.copy()\n",
    "    \n",
    "    print(\"Best position\", pos_init, clash_count, \"\\n\")\n",
    "    if(clash_count == 0):\n",
    "        break\n",
    "\n",
    "if(clash_count==0):\n",
    "  print(\"\\n\\n Solution to the problem is\")\n",
    "  print(clash_count)\n",
    "  print(pos_init)\n",
    "else:\n",
    "  print(\"No solution found\")\n"
   ]
  },
  {
   "cell_type": "code",
   "execution_count": null,
   "id": "0889261e",
   "metadata": {},
   "outputs": [],
   "source": []
  }
 ],
 "metadata": {
  "kernelspec": {
   "display_name": "Python 3 (ipykernel)",
   "language": "python",
   "name": "python3"
  },
  "language_info": {
   "codemirror_mode": {
    "name": "ipython",
    "version": 3
   },
   "file_extension": ".py",
   "mimetype": "text/x-python",
   "name": "python",
   "nbconvert_exporter": "python",
   "pygments_lexer": "ipython3",
   "version": "3.11.3"
  }
 },
 "nbformat": 4,
 "nbformat_minor": 5
}
