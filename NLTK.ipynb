{
 "cells": [
  {
   "cell_type": "code",
   "execution_count": null,
   "id": "88bc73e2-1fc7-4f23-a396-53a287ccbf0d",
   "metadata": {},
   "outputs": [],
   "source": [
    "import nltk\n",
    "nltk.download('punkt')"
   ]
  },
  {
   "cell_type": "code",
   "execution_count": null,
   "id": "7de96336-e698-4011-ab52-471da56c9f30",
   "metadata": {},
   "outputs": [],
   "source": [
    "from nltk.tokenize import sent_tokenize,word_tokenize"
   ]
  },
  {
   "cell_type": "code",
   "execution_count": null,
   "id": "473e5f46-883e-4cf7-ae52-b406f6a87c85",
   "metadata": {},
   "outputs": [],
   "source": [
    "txt = \"\"\"Overall, the AI industry boomed from a few million dollars in 1980 to billions of dollars.\n",
    "In 1988, including hundreds of companies building expert systems, vision systems, robots,\n",
    "and software and hardware specialized for these purposes. Soon after that came a period\n",
    "called the “AIWinter,”. During this period many companies fell by the wayside as they failed to deliver\n",
    "on extravagant promises.\"\"\""
   ]
  },
  {
   "cell_type": "code",
   "execution_count": null,
   "id": "bf8fa39f-41af-462d-a5cb-6ff5916794ec",
   "metadata": {},
   "outputs": [],
   "source": [
    "sent_tokenize(txt)"
   ]
  },
  {
   "cell_type": "code",
   "execution_count": null,
   "id": "bac556c5-c29c-4ae2-bc8e-addb80bc5a13",
   "metadata": {},
   "outputs": [],
   "source": [
    "word_tokenize(txt)"
   ]
  },
  {
   "cell_type": "code",
   "execution_count": null,
   "id": "cee844f3-650c-4998-a4b6-240606327907",
   "metadata": {},
   "outputs": [],
   "source": [
    "from nltk.tokenize import TreebankWordTokenizer\n",
    "txt = \"\"\"Overall, the AI industry boomed from a few million dollars in 1980 to billions of dollars.\n",
    "In 1988, including hundreds of companies building expert systems, vision systems, robots,\n",
    "and software and hardware specialized for these purposes. Soon after that came a period\n",
    "called the “AIWinter,”. During this period many companies fell by the wayside as they failed to deliver\n",
    "on extravagant promises.\"\"\"\n",
    "tokenizer=TreebankWordTokenizer()\n",
    "tokenizer.tokenize(txt)\n"
   ]
  },
  {
   "cell_type": "code",
   "execution_count": null,
   "id": "47923c77-2bdd-425b-bc8b-a01a54fd90e4",
   "metadata": {},
   "outputs": [],
   "source": [
    "from nltk.tokenize import WordPunctTokenizer\n",
    "txt = \"\"\"Overall, the AI industry boomed from a few million dollars in 1980 to billions of dollars.\n",
    "In 1988, including hundreds of companies building expert systems, vision systems, robots,\n",
    "and software and hardware specialized for these purposes. Soon after that came a period\n",
    "called the “AIWinter,”. During this period many companies fell by the wayside as they failed to deliver\n",
    "on extravagant promises.\"\"\"\n",
    "tokenizer= WordPunctTokenizer()\n",
    "tokenizer.tokenize(txt)"
   ]
  },
  {
   "cell_type": "code",
   "execution_count": null,
   "id": "15867aa0-aa1a-4b32-a807-8252559ef152",
   "metadata": {},
   "outputs": [],
   "source": [
    "from nltk.tokenize import RegexpTokenizer\n",
    "txt = \"\"\"Overall, the AI industry boomed from a few million dollars in 1980 to billions of dollars.\n",
    "In 1988, including hundreds of companies building expert systems, vision systems, robots,\n",
    "and software and hardware specialized for these purposes. Soon after that came a period\n",
    "called the “AIWinter,”. During this period many companies fell by the wayside as they failed to deliver\n",
    "on extravagant promises.\"\"\"\n",
    "tokenizer= RegexpTokenizer(\"['\\w']+\")\n",
    "tokenizer.tokenize(txt)"
   ]
  },
  {
   "cell_type": "code",
   "execution_count": null,
   "id": "321de363-2187-4910-91b4-58968a42292a",
   "metadata": {},
   "outputs": [],
   "source": [
    "from nltk.tokenize import WhitespaceTokenizer\n",
    "txt = \"\"\"Overall, the AI industry boomed from a few million dollars in 1980 to billions of dollars.\n",
    "In 1988, including hundreds of companies building expert systems, vision systems, robots,\n",
    "and software and hardware specialized for these purposes. Soon after that came a period\n",
    "called the “AIWinter,”. During this period many companies fell by the wayside as they failed to deliver\n",
    "on extravagant promises.\"\"\"\n",
    "tokenizer= WhitespaceTokenizer()\n",
    "tokenizer.tokenize(txt)"
   ]
  },
  {
   "cell_type": "code",
   "execution_count": null,
   "id": "aa9b5331-2f1b-4704-bf10-57a2c6a5804b",
   "metadata": {},
   "outputs": [],
   "source": [
    "import nltk\n",
    "nltk.download('stopwords')"
   ]
  },
  {
   "cell_type": "code",
   "execution_count": null,
   "id": "d1895a1b-8d5b-4d7c-8bc3-93c442f95370",
   "metadata": {},
   "outputs": [],
   "source": [
    "from nltk.corpus import stopwords\n",
    "print(stopwords.words('english'))"
   ]
  },
  {
   "cell_type": "code",
   "execution_count": null,
   "id": "fb69c932-96a6-4ebf-a4e9-77fa6662c520",
   "metadata": {},
   "outputs": [],
   "source": [
    "stopwords=nltk.corpus.stopwords.words('english')\n",
    "stopwords.append('this')"
   ]
  },
  {
   "cell_type": "code",
   "execution_count": null,
   "id": "63c8565c-3500-484e-b6d8-a6d6ce91009a",
   "metadata": {},
   "outputs": [],
   "source": [
    "stopwords=nltk.corpus.stopwords.words('english')\n",
    "newstopwords=['there','therefore']\n",
    "stopwords.extend(newstopwords)"
   ]
  },
  {
   "cell_type": "raw",
   "id": "749cd63c-bf21-44ca-88d9-b56795323c70",
   "metadata": {},
   "source": []
  },
  {
   "cell_type": "code",
   "execution_count": null,
   "id": "242dcc9f-4650-433b-8b7b-4aaf65acb3e4",
   "metadata": {},
   "outputs": [],
   "source": [
    "print(stopwords)"
   ]
  },
  {
   "cell_type": "code",
   "execution_count": null,
   "id": "8456f623-b2e0-4a9d-bf6c-0c0b2bb3800d",
   "metadata": {},
   "outputs": [],
   "source": [
    "from nltk.tokenize import word_tokenize\n",
    "from nltk.corpus import stopwords"
   ]
  },
  {
   "cell_type": "code",
   "execution_count": null,
   "id": "5a577dc4-36c9-4643-a73b-1f8869147401",
   "metadata": {},
   "outputs": [],
   "source": [
    " sentence = \"AI industry boomed from a few million dollars in 1980 to billions of do\"\n"
   ]
  },
  {
   "cell_type": "code",
   "execution_count": null,
   "id": "587b2ed2-4ad1-44e6-8396-509e77bf8867",
   "metadata": {},
   "outputs": [],
   "source": [
    "tokens=word_tokenize(sentence)"
   ]
  },
  {
   "cell_type": "code",
   "execution_count": null,
   "id": "8472af56-9865-4acc-8d12-dfaa4d0c8658",
   "metadata": {},
   "outputs": [],
   "source": [
    "word_stop=set(stopwords.words('english'))"
   ]
  },
  {
   "cell_type": "code",
   "execution_count": null,
   "id": "90f14717-3087-4745-b8af-a602a6e090e1",
   "metadata": {},
   "outputs": [],
   "source": [
    "filter_word=[word for word in tokens if word.lower() not in word_stop]"
   ]
  },
  {
   "cell_type": "code",
   "execution_count": null,
   "id": "85cac2a5-7251-4ab7-b72f-0b64f8a6629c",
   "metadata": {},
   "outputs": [],
   "source": [
    "filter_word"
   ]
  },
  {
   "cell_type": "code",
   "execution_count": null,
   "id": "fce29a14-cefa-43b1-b89c-dc4e32d147c0",
   "metadata": {},
   "outputs": [],
   "source": [
    "import re\n",
    "txt = \"\"\"Overall, the AI industry boomed from a few million dollars in 1980 to billions of dollars.\n",
    "In 1988, including hundreds of companies building expert systems, vision systems, robots,\n",
    "and software and hardware specialized for these purposes. Soon after that came a period\n",
    "called the “AIWinter,”. During this period many companies fell by the wayside as they failed to deliver\n",
    "on extravagant promises.\"\"\"\n",
    "x=re.findall(\"the\",txt)\n",
    "print(x)"
   ]
  },
  {
   "cell_type": "code",
   "execution_count": null,
   "id": "8d0e590e-70fb-4faa-ab8b-46289c7c08bb",
   "metadata": {},
   "outputs": [],
   "source": [
    "import re\n",
    "txt = \"The first work that is now generally recognized as AI was done by Warren McCulloch and Walter Pitts (1943). They drew on three sources: knowledge of the basic physiology and function of neurons in the brain; a formal analysis of propositional logic due to Russell and Whitehead; and Turing’s theory of computation.\"\n",
    "x=re.findall('Warren',txt)"
   ]
  },
  {
   "cell_type": "code",
   "execution_count": null,
   "id": "0a601b6c-3832-49ae-a2d5-9c496635d8ff",
   "metadata": {},
   "outputs": [],
   "source": [
    "print(x)"
   ]
  },
  {
   "cell_type": "code",
   "execution_count": null,
   "id": "69198535-f01b-4dcf-a1fa-89bada9d92e8",
   "metadata": {},
   "outputs": [],
   "source": [
    "import re\n",
    "txt = \"The first work that is now generally recognized as AI was done by Warren McCulloch and Walter Pitts (1943). They drew on three sources: knowledge of the basic physiology and function of neurons in the brain; a formal analysis of propositional logic due to Russell and Whitehead; and Turing’s theory of computation.\"\n",
    "x=re.split('\\s',txt)"
   ]
  },
  {
   "cell_type": "code",
   "execution_count": null,
   "id": "2e82cc62-30ed-4a38-b570-cbf73a6aa9a9",
   "metadata": {},
   "outputs": [],
   "source": [
    "print(x)"
   ]
  },
  {
   "cell_type": "code",
   "execution_count": null,
   "id": "f731367f-eecc-409c-9f46-0f72d8bbe0f2",
   "metadata": {},
   "outputs": [],
   "source": [
    "import re\n",
    "txt = \"The first work that is now generally recognized as AI was done by Warren McCulloch and Walter Pitts (1943). They drew on three sources: knowledge of the basic physiology and function of neurons in the brain; a formal analysis of propositional logic due to Russell and Whitehead; and Turing’s theory of computation.\"\n",
    "x=re.sub('\\s','\\t',txt)"
   ]
  },
  {
   "cell_type": "code",
   "execution_count": null,
   "id": "b77fb433-f66e-4a7f-9290-9de4356352fa",
   "metadata": {},
   "outputs": [],
   "source": [
    "print(x)"
   ]
  },
  {
   "cell_type": "code",
   "execution_count": null,
   "id": "9e1045ff-98ea-491a-b23d-00481bc0e3ed",
   "metadata": {},
   "outputs": [],
   "source": [
    "import re\n",
    "txt = \"The first work that is now generally recognized as AI was done by Warren McCulloch and Walter Pitts (1943). They drew on three sources: knowledge of the basic physiology and function of neurons in the brain; a formal analysis of propositional logic due to Russell and Whitehead; and Turing’s theory of computation.\"\n",
    "x=re.findall('\\d+',txt)"
   ]
  },
  {
   "cell_type": "code",
   "execution_count": null,
   "id": "96ece563-f279-4bf3-a19e-a1fc32dc9ce5",
   "metadata": {},
   "outputs": [],
   "source": [
    "print(x)"
   ]
  },
  {
   "cell_type": "code",
   "execution_count": null,
   "id": "6a09dc9d-05b4-4488-8913-e8e57028a240",
   "metadata": {},
   "outputs": [],
   "source": [
    "import re\n",
    "txt = \"The first work that is now generally recognized as AI was done by Warren McCulloch and Walter Pitts (1943). They drew on three sources: knowledge of the basic physiology and function of neurons in the brain; a formal analysis of propositional logic due to Russell and Whitehead; and Turing’s theory of computation.\"\n",
    "x=re.search(r'\\b\\w+',txt)\n",
    "print(x.span())"
   ]
  },
  {
   "cell_type": "code",
   "execution_count": null,
   "id": "a09749a6-3fd3-48a5-a224-804f8d0f5a1b",
   "metadata": {},
   "outputs": [],
   "source": [
    "txt = \"The first work that is now generally recognized as AI was done by Warren McCulloch and Walter Pitts (1943). They drew on three sources: knowledge of the basic physiology and function of neurons in the brain; a formal analysis of propositional logic due to Russell and Whitehead; and Turing’s theory of computation.\"\n",
    "x=re.search(r'\\bge\\w+',txt)\n",
    "print(x.string)"
   ]
  },
  {
   "cell_type": "code",
   "execution_count": null,
   "id": "85007fd6-8dfa-4272-b4da-9f094fcd7af2",
   "metadata": {},
   "outputs": [],
   "source": [
    "txt = \"The first work that is now generally recognized as AI was done by Warren McCulloch and Walter Pitts (1943). They drew on three sources: knowledge of the basic physiology and function of neurons in the brain; a formal analysis of propositional logic due to Russell and Whitehead; and Turing’s theory of computation.\"\n",
    "x=re.search(r'\\bgen\\w+',txt)\n",
    "print(x.group())"
   ]
  },
  {
   "cell_type": "code",
   "execution_count": null,
   "id": "e37f7a76-1216-42d2-9a23-523d792588ca",
   "metadata": {},
   "outputs": [],
   "source": [
    "from sklearn.feature_extraction.text import TfidfVectorizer"
   ]
  },
  {
   "cell_type": "code",
   "execution_count": null,
   "id": "9e7494ee-f12f-47b4-a8fb-168fce2adb92",
   "metadata": {},
   "outputs": [],
   "source": [
    "d0 = \"\"\"The simplest example is provided by deterministic nodes. A deterministic node has its value specified exactly by the values of its parents, with no uncertainty. The relationship can be a logical one: for example, the relationship between the parent nodes Canadian, US, Mexican and the child node North American is simply that the child is the disjunction of the parents.\"\"\"\n",
    "d1 = \"\"\"The relationship can also be numerical: for example, if the parent nodes are the prices of a particular model of car at several dealers and the child node is the price that a bargain hunter ends up paying, then the child node is the minimum of the parent values; or if the parent nodes are a lake’s inflows (rivers, runoff, precipitation) and outflows (rivers, evaporation, seepage) and the child is the change in the water level of the lake, then the value of the child is the sum of the inflow parents minus the sum of the outflow parents.\"\"\"\n",
    "d2 = \"\"\"In fact, this is a worst-case scenario in which the relationship between the parents and the child is completely arbitrary. Usually, such relationships are describable by a canonical distribution that fits some standard pattern. In such cases, the complete table can be specified by naming the pattern and perhaps supplying a few parameters—much easier than supplying an exponential number of parameters.\"\"\""
   ]
  },
  {
   "cell_type": "code",
   "execution_count": null,
   "id": "bd681aa8-60ad-4536-a5ba-a33f71a30b5b",
   "metadata": {},
   "outputs": [],
   "source": [
    "import pandas as pd\n",
    "String=[d0,d1,d2]\n",
    "tfidf=TfidfVectorizer(ngram_range=(1,1))\n",
    "result=tfidf.fit_transform(String)\n",
    "feature_names=tfidf.get_feature_names_out()\n",
    "dense=result.todense()\n",
    "dens_lst=dense.tolist()\n",
    "df=pd.DataFrame(dens_lst,columns=feature_names)\n"
   ]
  },
  {
   "cell_type": "code",
   "execution_count": null,
   "id": "a5abfb36-597f-4a3d-918c-ce7de2312386",
   "metadata": {},
   "outputs": [],
   "source": [
    "df"
   ]
  },
  {
   "cell_type": "code",
   "execution_count": null,
   "id": "3b4785af-4f2d-4004-bb93-c4d865986f57",
   "metadata": {},
   "outputs": [],
   "source": [
    "df1=pd.DataFrame(result.toarray().transpose(),index=tfidf.get_feature_names_out())"
   ]
  },
  {
   "cell_type": "code",
   "execution_count": null,
   "id": "418f83e4-589b-4474-887f-e6fca6e401b1",
   "metadata": {},
   "outputs": [],
   "source": [
    "df1"
   ]
  },
  {
   "cell_type": "code",
   "execution_count": null,
   "id": "c90eb4d3-3334-49f6-8980-4e6f6ec2226f",
   "metadata": {},
   "outputs": [],
   "source": [
    "dff=df1.to_dict()\n",
    "for k,v in dff[0].items():\n",
    "    print(k,\": \",v)"
   ]
  },
  {
   "cell_type": "code",
   "execution_count": null,
   "id": "e95f0831-f497-446d-bfb4-6288598d6653",
   "metadata": {},
   "outputs": [],
   "source": [
    "\n",
    "dff=df1.to_dict()\n",
    "tfidf_val=dff[0]\n",
    "\n",
    "for k,v in tfidf_val.items():\n",
    "  if(v>0.1):\n",
    "    print(k)\n"
   ]
  },
  {
   "cell_type": "code",
   "execution_count": null,
   "id": "62b81e2b-c8b6-4461-a7bb-b72aa7837163",
   "metadata": {},
   "outputs": [],
   "source": [
    "import nltk\n",
    "nltk.download('stopwords')\n",
    "nltk.download('averaged_perceptron_tagger')\n",
    "from nltk.corpus import stopwords\n",
    "stopwords = nltk.corpus.stopwords.words('english')"
   ]
  },
  {
   "cell_type": "code",
   "execution_count": null,
   "id": "6700189c-4c00-4272-a3e6-aff09b9e7c05",
   "metadata": {},
   "outputs": [],
   "source": [
    "txt = \"\"\"Question for consideration is whether in the facts of the present case, the dishonour\n",
    "of a post-dated cheque given for repayment of loan installment which is also described\n",
    "as \"security\" in the loan agreement is covered by Section 138 of the Negotiable\n",
    "Instruments Act, 1881 (\"the Act\").\n",
    "\"\"\""
   ]
  },
  {
   "cell_type": "code",
   "execution_count": null,
   "id": "0a98922d-1db3-4b3a-9143-4b6d4672c11c",
   "metadata": {},
   "outputs": [],
   "source": [
    "from nltk.tokenize import WhitespaceTokenizer\n",
    "wrd_lst=WhitespaceTokenizer().tokenize(txt)\n",
    "print(wrd_lst)"
   ]
  },
  {
   "cell_type": "code",
   "execution_count": null,
   "id": "cedb9704-8942-455c-a24c-61bd4b15838a",
   "metadata": {},
   "outputs": [],
   "source": [
    "wrd_list=[]\n",
    "for wrd in wrd_lst:\n",
    "    if wrd not in stopwords:\n",
    "        wrd_list.append(wrd)"
   ]
  },
  {
   "cell_type": "code",
   "execution_count": null,
   "id": "bf626af8-4c4f-43b4-b285-cab8a52bf538",
   "metadata": {},
   "outputs": [],
   "source": [
    "pos_dict={}\n",
    "pos_dict=nltk.pos_tag(wrd_list)"
   ]
  },
  {
   "cell_type": "code",
   "execution_count": null,
   "id": "f8d7514f-8aee-499b-aced-85027ee84d58",
   "metadata": {},
   "outputs": [],
   "source": [
    "print(pos_dict)"
   ]
  },
  {
   "cell_type": "code",
   "execution_count": null,
   "id": "b27ddd7a-f491-4047-b59f-3c0bdef27594",
   "metadata": {},
   "outputs": [],
   "source": [
    "for(wrd,pos) in pos_dict:\n",
    "    if(pos in ['NN','VBD','NNP','VBZ','VBN']):\n",
    "        print(wrd,pos)"
   ]
  },
  {
   "cell_type": "code",
   "execution_count": null,
   "id": "cf495df7-f88e-44b2-9c51-1909b9c09009",
   "metadata": {},
   "outputs": [],
   "source": []
  }
 ],
 "metadata": {
  "kernelspec": {
   "display_name": "Python 3 (ipykernel)",
   "language": "python",
   "name": "python3"
  },
  "language_info": {
   "codemirror_mode": {
    "name": "ipython",
    "version": 3
   },
   "file_extension": ".py",
   "mimetype": "text/x-python",
   "name": "python",
   "nbconvert_exporter": "python",
   "pygments_lexer": "ipython3",
   "version": "3.11.7"
  }
 },
 "nbformat": 4,
 "nbformat_minor": 5
}
