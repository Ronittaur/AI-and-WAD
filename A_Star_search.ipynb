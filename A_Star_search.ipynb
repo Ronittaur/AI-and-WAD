{
 "cells": [
  {
   "cell_type": "code",
   "execution_count": 1,
   "id": "032dca9d",
   "metadata": {},
   "outputs": [
    {
     "name": "stdout",
     "output_type": "stream",
     "text": [
      "Enter the no. of locations : 4\n",
      "ENter the city vertex : A\n",
      "Enter the H value of vertex A\n",
      "4\n",
      "Enter the number of connected locations : 2\n",
      "Enter adjacent city of vertex  A\n",
      "B\n",
      "Ente the distance of adjacent vertex : 2\n",
      "Enter adjacent city of vertex  A\n",
      "C\n",
      "Ente the distance of adjacent vertex : 5\n",
      "ENter the city vertex : B\n",
      "Enter the H value of vertex B\n",
      "3\n",
      "Enter the number of connected locations : 1\n",
      "Enter adjacent city of vertex  B\n",
      "D\n",
      "Ente the distance of adjacent vertex : 4\n",
      "ENter the city vertex : C\n",
      "Enter the H value of vertex C\n",
      "6\n",
      "Enter the number of connected locations : 1\n",
      "Enter adjacent city of vertex  C\n",
      "D\n",
      "Ente the distance of adjacent vertex : 6\n",
      "ENter the city vertex : D\n",
      "Enter the H value of vertex D\n",
      "0\n",
      "Enter the number of connected locations : 0\n",
      "{'A': 4, 'B': 3, 'C': 6, 'D': 0}\n",
      "{'A': [('B', 2), ('C', 5)], 'B': [('D', 4)], 'C': [('D', 6)]}\n"
     ]
    }
   ],
   "source": [
    "# Getting inputs\n",
    "\n",
    "H_value = {}\n",
    "adj_vertex = {}\n",
    "lst = []\n",
    "\n",
    "n = int(input(\"Enter the no. of locations : \"));\n",
    "\n",
    "for i in range(n):\n",
    "    vertex = input(\"ENter the city vertex : \")\n",
    "    print(\"Enter the H value of vertex\", vertex)\n",
    "    h = int(input())\n",
    "    H_value[vertex]=h\n",
    "    \n",
    "    loc = int(input(\"Enter the number of connected locations : \"))\n",
    "    \n",
    "    for j in range(loc):\n",
    "        print(\"Enter adjacent city of vertex \",vertex)\n",
    "        adj_v = input()\n",
    "        dist = int(input(\"Ente the distance of adjacent vertex : \"))\n",
    "        lst.append((adj_v, dist))\n",
    "        \n",
    "    if(len(lst)>0):\n",
    "        adj_vertex[vertex] = lst\n",
    "    lst = []\n",
    "    \n",
    "print(H_value)\n",
    "print(adj_vertex)\n"
   ]
  },
  {
   "cell_type": "code",
   "execution_count": 2,
   "id": "7a44e091",
   "metadata": {},
   "outputs": [
    {
     "data": {
      "text/plain": [
       "[('D', 6)]"
      ]
     },
     "execution_count": 2,
     "metadata": {},
     "output_type": "execute_result"
    }
   ],
   "source": [
    "def get_Neighbour(node):\n",
    "    return adj_vertex[node]\n",
    "get_Neighbour(\"C\")"
   ]
  },
  {
   "cell_type": "code",
   "execution_count": 3,
   "id": "d3843aaa",
   "metadata": {},
   "outputs": [
    {
     "data": {
      "text/plain": [
       "4"
      ]
     },
     "execution_count": 3,
     "metadata": {},
     "output_type": "execute_result"
    }
   ],
   "source": [
    "def Heuristic_val(node):\n",
    "    return H_value[node]\n",
    "Heuristic_val(\"A\")"
   ]
  },
  {
   "cell_type": "code",
   "execution_count": 4,
   "id": "c7cd9a39",
   "metadata": {},
   "outputs": [
    {
     "name": "stdout",
     "output_type": "stream",
     "text": [
      "Enter the source state : A\n",
      "Enter the goal state : D\n",
      "path found  ['A', 'B', 'D']\n",
      "Total Path cost  6\n"
     ]
    },
    {
     "data": {
      "text/plain": [
       "['A', 'B', 'D']"
      ]
     },
     "execution_count": 4,
     "metadata": {},
     "output_type": "execute_result"
    }
   ],
   "source": [
    "def a_star_search(start, stop):\n",
    "    \n",
    "    open_list = set([start])\n",
    "    close_list = set([])\n",
    "    \n",
    "    G = {}\n",
    "    G[start] = 0\n",
    "    \n",
    "    parent = {}\n",
    "    parent[start]= start\n",
    "    \n",
    "    path = []\n",
    "\n",
    "    \n",
    "    while len(open_list) > 0:\n",
    "        node = None\n",
    "        \n",
    "        for i in open_list:\n",
    "            if(node == None or (G[i] + Heuristic_val(i)) < (G[node] + Heuristic_val(node))):\n",
    "                node = i\n",
    "        \n",
    "        if node == None:\n",
    "            print(\"Path does not exit\")\n",
    "            return None\n",
    "        \n",
    "        if node == stop:\n",
    "            while parent[node] != node:\n",
    "                path.append(node)\n",
    "                node = parent[node]\n",
    "            \n",
    "            path.append(start)\n",
    "            path.reverse()\n",
    "            print('path found ', path)\n",
    "            print('Total Path cost ', G[stop])\n",
    "            return path\n",
    "        \n",
    "        for (v, distance) in get_Neighbour(node):\n",
    "            if v not in open_list and v not in close_list:\n",
    "                open_list.add(v)\n",
    "                parent[v] = node\n",
    "                G[v] = G[node] + distance\n",
    "                \n",
    "            else:\n",
    "                if(G[v] > G[node] + distance):\n",
    "                    G[v] = G[node] + distance\n",
    "                    parent[v] = node\n",
    "                    \n",
    "                    if v in close_list:\n",
    "                        close_list.remove(v)\n",
    "                        open_list.add(v)\n",
    "        \n",
    "        open_list.remove(node)\n",
    "        close_list.add(node)\n",
    "        \n",
    "    print('Path does not exist!')\n",
    "    return None\n",
    "    \n",
    "\n",
    "start = input(\"Enter the source state : \")\n",
    "stop = input(\"Enter the goal state : \")\n",
    "a_star_search(start, stop)"
   ]
  },
  {
   "cell_type": "code",
   "execution_count": null,
   "id": "38810b4e",
   "metadata": {},
   "outputs": [],
   "source": []
  }
 ],
 "metadata": {
  "kernelspec": {
   "display_name": "Python 3 (ipykernel)",
   "language": "python",
   "name": "python3"
  },
  "language_info": {
   "codemirror_mode": {
    "name": "ipython",
    "version": 3
   },
   "file_extension": ".py",
   "mimetype": "text/x-python",
   "name": "python",
   "nbconvert_exporter": "python",
   "pygments_lexer": "ipython3",
   "version": "3.11.3"
  }
 },
 "nbformat": 4,
 "nbformat_minor": 5
}
